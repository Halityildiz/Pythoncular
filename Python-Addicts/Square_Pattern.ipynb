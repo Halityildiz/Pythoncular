{
 "cells": [
  {
   "cell_type": "markdown",
   "id": "3a633331",
   "metadata": {},
   "source": [
    "Write your solutions. Print square pattern with alphabet symbols: output :\n",
    "A A A A A A A \n",
    "B B B B B B B \n",
    "C C C C C C C \n",
    "D D D D D D D \n",
    "E E E E E E E \n",
    "F F F F F F F \n",
    "G G G G G G G "
   ]
  },
  {
   "cell_type": "code",
   "execution_count": null,
   "id": "575c380c",
   "metadata": {},
   "outputs": [],
   "source": [
    "def square_pattern(n, k):\n",
    "\n",
    "    for i in range(ord(n), ord(n)+k):\n",
    "       for j in range(k):\n",
    "          print(chr(i), end= \" \")\n",
    "       print()\n",
    "\n",
    "square_pattern(\"A\", 7)"
   ]
  },
  {
   "cell_type": "code",
   "execution_count": null,
   "id": "5202e431",
   "metadata": {},
   "outputs": [],
   "source": [
    "def kelime(n,k):\n",
    "  l=\"\"\n",
    "  t,z=ord(n),0\n",
    "  while k:\n",
    "      l+=(chr(t)+\" \")*k+\"\\n\"\n",
    "      t+=1 \n",
    "      z+=1\n",
    "      if z==k:\n",
    "        break\n",
    "  return l\n",
    "print(kelime(\"K\",7))"
   ]
  },
  {
   "cell_type": "code",
   "execution_count": 1,
   "id": "5f9de12b",
   "metadata": {},
   "outputs": [
    {
     "name": "stdout",
     "output_type": "stream",
     "text": [
      "Enter No Of Rows:7\n",
      "A A A A A A A \n",
      "B B B B B B B \n",
      "C C C C C C C \n",
      "D D D D D D D \n",
      "E E E E E E E \n",
      "F F F F F F F \n",
      "G G G G G G G \n"
     ]
    }
   ],
   "source": [
    "n=int(input('Enter No Of Rows:'))\n",
    "for i in range(n):\n",
    "    print((chr(65+i)+' ')*n)"
   ]
  }
 ],
 "metadata": {
  "kernelspec": {
   "display_name": "Python 3",
   "language": "python",
   "name": "pythonjvsc74a57bd0aee8b7b246df8f9039afb4144a1f6fd8d2ca17a180786b69acc140d282b71a49"
  },
  "language_info": {
   "codemirror_mode": {
    "name": "ipython",
    "version": 3
   },
   "file_extension": ".py",
   "mimetype": "text/x-python",
   "name": "python",
   "nbconvert_exporter": "python",
   "pygments_lexer": "ipython3",
   "version": "3.9.7"
  }
 },
 "nbformat": 4,
 "nbformat_minor": 5
}
