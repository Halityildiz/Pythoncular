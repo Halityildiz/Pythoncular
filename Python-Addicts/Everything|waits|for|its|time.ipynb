{
 "cells": [
  {
   "cell_type": "markdown",
   "id": "9fba770b",
   "metadata": {},
   "source": [
    "Write a function so that when you run the function, it will give this result\n",
    "input ::\"Everything\", \"waits\", \"for\", \"its\", \"time\" ,\"Neither\", \"the\" ,\"rose\", \"blooms\", \"before\", \"its\", \"time\", \"nor\", \"the\", \"sun\", \"rises\", \"before\", \"its\", \"time\"\n",
    "expected output : Everything|waits|for|its|time|Neither|the|rose|blooms|before|its|time|nor|the|sun|rises|before|its|time!!!"
   ]
  },
  {
   "cell_type": "code",
   "execution_count": null,
   "id": "36691148",
   "metadata": {},
   "outputs": [],
   "source": [
    "def func():\n",
    "    liste = [x for x in str(input(\"input: \")).split(\",\")]\n",
    "    return \"|\".join(liste+ \"!!!\")\n"
   ]
  },
  {
   "cell_type": "code",
   "execution_count": 12,
   "id": "ff2f69ca",
   "metadata": {},
   "outputs": [
    {
     "name": "stdout",
     "output_type": "stream",
     "text": [
      "input: \"Everything\", \"waits\", \"for\", \"its\", \"time\" ,\"Neither\", \"the\" ,\"rose\", \"blooms\", \"before\", \"its\", \"time\", \"nor\", \"the\", \"sun\", \"rises\", \"before\", \"its\", \"time\"\n"
     ]
    },
    {
     "ename": "TypeError",
     "evalue": "can only concatenate list (not \"str\") to list",
     "output_type": "error",
     "traceback": [
      "\u001b[0;31m---------------------------------------------------------------------------\u001b[0m",
      "\u001b[0;31mTypeError\u001b[0m                                 Traceback (most recent call last)",
      "\u001b[0;32m/var/folders/ts/df_29m3d4_gfjbs6wvbzs_kc0000gn/T/ipykernel_6505/2078144611.py\u001b[0m in \u001b[0;36m<module>\u001b[0;34m\u001b[0m\n\u001b[0;32m----> 1\u001b[0;31m \u001b[0mfunc\u001b[0m\u001b[0;34m(\u001b[0m\u001b[0;34m)\u001b[0m\u001b[0;34m\u001b[0m\u001b[0;34m\u001b[0m\u001b[0m\n\u001b[0m",
      "\u001b[0;32m/var/folders/ts/df_29m3d4_gfjbs6wvbzs_kc0000gn/T/ipykernel_6505/1063644659.py\u001b[0m in \u001b[0;36mfunc\u001b[0;34m()\u001b[0m\n\u001b[1;32m      1\u001b[0m \u001b[0;32mdef\u001b[0m \u001b[0mfunc\u001b[0m\u001b[0;34m(\u001b[0m\u001b[0;34m)\u001b[0m\u001b[0;34m:\u001b[0m\u001b[0;34m\u001b[0m\u001b[0;34m\u001b[0m\u001b[0m\n\u001b[1;32m      2\u001b[0m     \u001b[0mliste\u001b[0m \u001b[0;34m=\u001b[0m \u001b[0;34m[\u001b[0m\u001b[0mx\u001b[0m \u001b[0;32mfor\u001b[0m \u001b[0mx\u001b[0m \u001b[0;32min\u001b[0m \u001b[0minput\u001b[0m\u001b[0;34m(\u001b[0m\u001b[0;34m\"input: \"\u001b[0m\u001b[0;34m)\u001b[0m\u001b[0;34m.\u001b[0m\u001b[0msplit\u001b[0m\u001b[0;34m(\u001b[0m\u001b[0;34m\",\"\u001b[0m\u001b[0;34m)\u001b[0m\u001b[0;34m]\u001b[0m\u001b[0;34m\u001b[0m\u001b[0;34m\u001b[0m\u001b[0m\n\u001b[0;32m----> 3\u001b[0;31m     \u001b[0;32mreturn\u001b[0m \u001b[0;34m\"|\"\u001b[0m\u001b[0;34m.\u001b[0m\u001b[0mjoin\u001b[0m\u001b[0;34m(\u001b[0m\u001b[0mliste\u001b[0m\u001b[0;34m+\u001b[0m \u001b[0;34m\"!!!\"\u001b[0m\u001b[0;34m)\u001b[0m\u001b[0;34m\u001b[0m\u001b[0;34m\u001b[0m\u001b[0m\n\u001b[0m",
      "\u001b[0;31mTypeError\u001b[0m: can only concatenate list (not \"str\") to list"
     ]
    }
   ],
   "source": [
    "func()"
   ]
  },
  {
   "cell_type": "code",
   "execution_count": 13,
   "id": "f18f9af0",
   "metadata": {},
   "outputs": [
    {
     "name": "stdout",
     "output_type": "stream",
     "text": [
      "Everything|waits|for|its|time|Neither|the|rose|blooms|before|its|time|nor|the|sun|rises|before|its|time!!!"
     ]
    }
   ],
   "source": [
    "print(\"Everything\", \"waits\", \"for\", \"its\", \"time\" ,\"Neither\", \"the\" ,\"rose\", \"blooms\", \"before\", \"its\", \"time\", \"nor\", \"the\", \"sun\", \"rises\", \"before\", \"its\", \"time\", sep = \"|\", end= \"!!!\") "
   ]
  },
  {
   "cell_type": "code",
   "execution_count": null,
   "id": "1902fec7",
   "metadata": {},
   "outputs": [],
   "source": []
  }
 ],
 "metadata": {
  "kernelspec": {
   "display_name": "Python 3",
   "language": "python",
   "name": "pythonjvsc74a57bd0aee8b7b246df8f9039afb4144a1f6fd8d2ca17a180786b69acc140d282b71a49"
  },
  "language_info": {
   "codemirror_mode": {
    "name": "ipython",
    "version": 3
   },
   "file_extension": ".py",
   "mimetype": "text/x-python",
   "name": "python",
   "nbconvert_exporter": "python",
   "pygments_lexer": "ipython3",
   "version": "3.9.7"
  }
 },
 "nbformat": 4,
 "nbformat_minor": 5
}
