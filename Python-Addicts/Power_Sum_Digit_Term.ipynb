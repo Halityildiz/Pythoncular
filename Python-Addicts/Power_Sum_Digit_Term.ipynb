{
 "cells": [
  {
   "cell_type": "markdown",
   "id": "02a70b8e",
   "metadata": {},
   "source": [
    "The number 81 has a special property, a certain power of the sum of its digits is equal to 81 (nine squared). Eighty one (81), is the first number in having this property (not considering numbers of one digit). The next one, is 512. Let's see both cases with the details\n",
    "8 + 1 = 9 and 92 = 81\n",
    "512 = 5 + 1 + 2 = 8 and 83 = 512\n",
    "We need to make a function, power_sumDigTerm(), that receives a number n and may output the n-th term of this sequence of numbers. The cases we presented above means that\n",
    "power_sumDigTerm(1) == 81\n",
    "power_sumDigTerm(2) == 512\n",
    "Happy coding!"
   ]
  },
  {
   "cell_type": "code",
   "execution_count": 3,
   "id": "57e975e0",
   "metadata": {},
   "outputs": [
    {
     "data": {
      "text/plain": [
       "17576"
      ]
     },
     "execution_count": 3,
     "metadata": {},
     "output_type": "execute_result"
    }
   ],
   "source": [
    "def power_sum(n):\n",
    "    toplam, a, sonuc, devam = 0, 2, False, True\n",
    "    for i in str(n):\n",
    "        toplam += int(i)\n",
    "    if toplam == 1:devam = False \n",
    "    while True:\n",
    "        if devam:\n",
    "            if toplam ** a == n:\n",
    "                sonuc = True\n",
    "                break\n",
    "            elif toplam ** a > n:\n",
    "                break\n",
    "            else:a += 1\n",
    "        else:break\n",
    "    return sonuc\n",
    "    \n",
    "def power_sumDigTerm(x):\n",
    "    a, b = 0, 10\n",
    "    while True:\n",
    "        if power_sum(b):\n",
    "            a += 1\n",
    "        if a == x:break\n",
    "        b += 1\n",
    "    return b\n",
    "    \n",
    "power_sumDigTerm(6)"
   ]
  },
  {
   "cell_type": "code",
   "execution_count": 2,
   "id": "eeae5176",
   "metadata": {},
   "outputs": [
    {
     "data": {
      "text/plain": [
       "19683"
      ]
     },
     "execution_count": 2,
     "metadata": {},
     "output_type": "execute_result"
    }
   ],
   "source": [
    "def power_sumDigTerm(n):\n",
    "\n",
    "  a, b = [], 80\n",
    "\n",
    "  while n != len(a):\n",
    "    b += 1\n",
    "    counter = 1\n",
    "    c = sum([int(x) for x in str(b)])\n",
    "    while counter < b:\n",
    "      counter *= c\n",
    "      if counter == b: a += [b]; b += 1; break;\n",
    "      elif counter == 1: break;\n",
    "\n",
    "  return a[n-1]\n",
    "\n",
    "power_sumDigTerm(7)"
   ]
  },
  {
   "cell_type": "code",
   "execution_count": 1,
   "id": "99584793",
   "metadata": {},
   "outputs": [
    {
     "data": {
      "text/plain": [
       "81"
      ]
     },
     "execution_count": 1,
     "metadata": {},
     "output_type": "execute_result"
    }
   ],
   "source": [
    "def power_sumDigTerm(n):\n",
    "    return sorted(set([a**b for a in range(2, 100) for b in range(2,100) if a == sum(map(int, str(a**b)))]))[n-1]\n",
    "power_sumDigTerm(1)"
   ]
  },
  {
   "cell_type": "code",
   "execution_count": null,
   "id": "67a88cf3",
   "metadata": {},
   "outputs": [],
   "source": []
  },
  {
   "cell_type": "code",
   "execution_count": null,
   "id": "bfa5c911",
   "metadata": {},
   "outputs": [],
   "source": []
  }
 ],
 "metadata": {
  "kernelspec": {
   "display_name": "Python 3",
   "language": "python",
   "name": "pythonjvsc74a57bd0aee8b7b246df8f9039afb4144a1f6fd8d2ca17a180786b69acc140d282b71a49"
  },
  "language_info": {
   "codemirror_mode": {
    "name": "ipython",
    "version": 3
   },
   "file_extension": ".py",
   "mimetype": "text/x-python",
   "name": "python",
   "nbconvert_exporter": "python",
   "pygments_lexer": "ipython3",
   "version": "3.9.7"
  }
 },
 "nbformat": 4,
 "nbformat_minor": 5
}
