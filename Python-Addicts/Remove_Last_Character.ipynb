{
 "cells": [
  {
   "cell_type": "markdown",
   "id": "e8a61d8f",
   "metadata": {},
   "source": [
    "Remove last character in list of strings: \n",
    "    given_list = [\"Lessons\", \"Words\", \"Pythons\", \"Programers\",\"Clarusways\"] \n",
    "    expected output : ['Lesson', 'Word', 'Python', 'Programer', 'Clarusway']\n"
   ]
  },
  {
   "cell_type": "code",
   "execution_count": 2,
   "id": "c60002e2",
   "metadata": {},
   "outputs": [
    {
     "name": "stdout",
     "output_type": "stream",
     "text": [
      "['Lesson', 'Word', 'Python', 'Programer', 'Clarusway']\n"
     ]
    }
   ],
   "source": [
    "given_list = [\"Lessons\", \"Words\", \"Pythons\", \"Programers\",\"Clarusways\"] \n",
    "print(list(map(lambda i:i[:-1],given_list)))"
   ]
  },
  {
   "cell_type": "code",
   "execution_count": 3,
   "id": "6a0ca116",
   "metadata": {},
   "outputs": [
    {
     "name": "stdout",
     "output_type": "stream",
     "text": [
      "['Lesson', 'Word', 'Python', 'Programer', 'Clarusway']\n"
     ]
    }
   ],
   "source": [
    "given_list = [\"Lessons\", \"Words\", \"Pythons\", \"Programers\",\"Clarusways\"]\n",
    "a=[i[:-1] for i in given_list]\n",
    "print(a)"
   ]
  }
 ],
 "metadata": {
  "kernelspec": {
   "display_name": "Python 3",
   "language": "python",
   "name": "pythonjvsc74a57bd0aee8b7b246df8f9039afb4144a1f6fd8d2ca17a180786b69acc140d282b71a49"
  },
  "language_info": {
   "codemirror_mode": {
    "name": "ipython",
    "version": 3
   },
   "file_extension": ".py",
   "mimetype": "text/x-python",
   "name": "python",
   "nbconvert_exporter": "python",
   "pygments_lexer": "ipython3",
   "version": "3.9.7"
  }
 },
 "nbformat": 4,
 "nbformat_minor": 5
}
