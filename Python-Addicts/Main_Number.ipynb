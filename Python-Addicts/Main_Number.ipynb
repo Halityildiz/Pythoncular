{
 "cells": [
  {
   "cell_type": "markdown",
   "id": "44f311ef",
   "metadata": {},
   "source": [
    "The main number is 7.\n",
    "7 - 7 = 0\n",
    "7 - 8 = 1\n",
    "7 - 9 = 2\n",
    "The main number is 8.\n",
    "8 - 7 = 1\n",
    "8 - 8 = 0\n",
    "8 - 9 = 1\n",
    "The main number is 9.\n",
    "9 - 7 = 2\n",
    "9 - 8 = 1\n",
    "9 - 9 = 0"
   ]
  },
  {
   "cell_type": "code",
   "execution_count": null,
   "id": "49ba343b",
   "metadata": {},
   "outputs": [],
   "source": [
    "def main_number(n):    \n",
    "    a = n\n",
    "    while n <= 9:\n",
    "        y = a\n",
    "        print(f'The main number is {n}.')\n",
    "        while y <= 9:\n",
    "            if n - y < 0:\n",
    "                print(f'{n} - {y} = {-(n-y)}')\n",
    "            else:\n",
    "                print(f'{n} - {y} = {(n-y)}')\n",
    "            y += 1\n",
    "        n += 1\n",
    "\n",
    "main_number(5)"
   ]
  },
  {
   "cell_type": "code",
   "execution_count": null,
   "id": "b6607c62",
   "metadata": {},
   "outputs": [],
   "source": [
    "def main_number(n):    \n",
    "    a = n\n",
    "    while n <= 9:\n",
    "        y = a\n",
    "        print(f'The main number is {n}.')\n",
    "        while y <= 9:\n",
    "            print(f'{n} - {y} = {abs(n-y)}')\n",
    "            y += 1\n",
    "        n += 1\n",
    "main_number(5)"
   ]
  },
  {
   "cell_type": "code",
   "execution_count": null,
   "id": "6ef466d3",
   "metadata": {},
   "outputs": [],
   "source": []
  },
  {
   "cell_type": "code",
   "execution_count": null,
   "id": "62c5e53e",
   "metadata": {},
   "outputs": [],
   "source": []
  }
 ],
 "metadata": {
  "kernelspec": {
   "display_name": "Python 3",
   "language": "python",
   "name": "pythonjvsc74a57bd0aee8b7b246df8f9039afb4144a1f6fd8d2ca17a180786b69acc140d282b71a49"
  },
  "language_info": {
   "codemirror_mode": {
    "name": "ipython",
    "version": 3
   },
   "file_extension": ".py",
   "mimetype": "text/x-python",
   "name": "python",
   "nbconvert_exporter": "python",
   "pygments_lexer": "ipython3",
   "version": "3.9.7"
  }
 },
 "nbformat": 4,
 "nbformat_minor": 5
}
