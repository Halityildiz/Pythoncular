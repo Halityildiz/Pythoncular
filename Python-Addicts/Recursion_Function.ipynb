{
 "cells": [
  {
   "cell_type": "code",
   "execution_count": null,
   "id": "79cc1ae8",
   "metadata": {},
   "outputs": [],
   "source": [
    "Given a number N.  Find Sum of 1 to N. Using Recursion Function.İnput =5 ,Output=15"
   ]
  },
  {
   "cell_type": "code",
   "execution_count": 1,
   "id": "bb740337",
   "metadata": {},
   "outputs": [
    {
     "name": "stdout",
     "output_type": "stream",
     "text": [
      "15\n"
     ]
    }
   ],
   "source": [
    "def sum_num(num):\n",
    "  if num == 1:\n",
    "    return 1\n",
    "\n",
    "  return num + sum_num(num-1)\n",
    "\n",
    "print(sum_num(5))"
   ]
  },
  {
   "cell_type": "code",
   "execution_count": null,
   "id": "8dc5bd08",
   "metadata": {},
   "outputs": [],
   "source": []
  }
 ],
 "metadata": {
  "kernelspec": {
   "display_name": "Python 3",
   "language": "python",
   "name": "pythonjvsc74a57bd0aee8b7b246df8f9039afb4144a1f6fd8d2ca17a180786b69acc140d282b71a49"
  },
  "language_info": {
   "codemirror_mode": {
    "name": "ipython",
    "version": 3
   },
   "file_extension": ".py",
   "mimetype": "text/x-python",
   "name": "python",
   "nbconvert_exporter": "python",
   "pygments_lexer": "ipython3",
   "version": "3.9.7"
  }
 },
 "nbformat": 4,
 "nbformat_minor": 5
}
