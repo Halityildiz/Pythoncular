{
 "cells": [
  {
   "cell_type": "markdown",
   "id": "0dc15742",
   "metadata": {},
   "source": [
    "Use datetime   modul and create a file  . Output :  \" Python 02-09-2021.txt \"\n"
   ]
  },
  {
   "cell_type": "code",
   "execution_count": 1,
   "id": "5149544e",
   "metadata": {},
   "outputs": [
    {
     "name": "stdout",
     "output_type": "stream",
     "text": [
      "created 19-09-2021.txt\n"
     ]
    }
   ],
   "source": [
    "from datetime import datetime\n",
    "x= datetime.now()\n",
    "file_name = x.strftime('%d-%m-%Y.txt')\n",
    "with open(file_name, 'w') as fp:\n",
    "    print('created', file_name)"
   ]
  }
 ],
 "metadata": {
  "kernelspec": {
   "display_name": "Python 3",
   "language": "python",
   "name": "pythonjvsc74a57bd0aee8b7b246df8f9039afb4144a1f6fd8d2ca17a180786b69acc140d282b71a49"
  },
  "language_info": {
   "codemirror_mode": {
    "name": "ipython",
    "version": 3
   },
   "file_extension": ".py",
   "mimetype": "text/x-python",
   "name": "python",
   "nbconvert_exporter": "python",
   "pygments_lexer": "ipython3",
   "version": "3.9.7"
  }
 },
 "nbformat": 4,
 "nbformat_minor": 5
}
