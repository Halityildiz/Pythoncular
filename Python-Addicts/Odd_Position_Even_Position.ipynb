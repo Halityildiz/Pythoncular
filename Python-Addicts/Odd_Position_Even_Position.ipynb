{
 "cells": [
  {
   "cell_type": "markdown",
   "id": "7c0de01d",
   "metadata": {},
   "source": [
    "Program to Print Characters at Odd Position and Even Position for a String? \n",
    "given :\"Welcome to the Data Science Path!\" output:\n",
    "Characters at Even Position: Wloet h aaSinePt!\n",
    "Characters at Odd Position: ecm oteDt cec ah"
   ]
  },
  {
   "cell_type": "code",
   "execution_count": 3,
   "id": "d6692446",
   "metadata": {},
   "outputs": [
    {
     "name": "stdout",
     "output_type": "stream",
     "text": [
      "Characters at Even Position:  Wloet h aaSinePt!\n",
      "Characters at Odd Position:  ecm oteDt cec ah\n"
     ]
    }
   ],
   "source": [
    "text = \"Welcome to the Data Science Path!\"\n",
    "\n",
    "even_pos = \"\".join([text[x] for x in range(0, len(text), 2)])\n",
    "odd_pos = \"\".join([text[x] for x in range(1, len(text), 2)])\n",
    "\n",
    "print(\"Characters at Even Position: \", even_pos)\n",
    "print(\"Characters at Odd Position: \", odd_pos)"
   ]
  },
  {
   "cell_type": "code",
   "execution_count": 2,
   "id": "a44db30a",
   "metadata": {},
   "outputs": [
    {
     "name": "stdout",
     "output_type": "stream",
     "text": [
      "Characters at Even Position:  Wloet h aaSinePt!\n",
      "Characters at Odd Position:  ecm oteDt cec ah\n"
     ]
    }
   ],
   "source": [
    "text = \"Welcome to the Data Science Path!\"\n",
    "odd = ''.join(list(map(lambda x : text[x] if x % 2 != 0 else '', list(range(len(text))))))\n",
    "even = ''.join(list(map(lambda x : text[x] if x % 2 == 0 else '', list(range(len(text))))))\n",
    "print('Characters at Even Position: ', even)\n",
    "print('Characters at Odd Position: ', odd)"
   ]
  },
  {
   "cell_type": "code",
   "execution_count": 1,
   "id": "cb1e7b39",
   "metadata": {},
   "outputs": [
    {
     "name": "stdout",
     "output_type": "stream",
     "text": [
      "Characters at Even Position: Wloet h aaSinePt! \n",
      "Characters at Odd Position: ecm oteDt cec ah\n"
     ]
    }
   ],
   "source": [
    "def odd_even(yazı):\n",
    "    even = yazı[::2]\n",
    "    odd = yazı[1::2]\n",
    "    print(f\"Characters at Even Position: {even} \\nCharacters at Odd Position: {odd}\")\n",
    "odd_even(\"Welcome to the Data Science Path!\")"
   ]
  },
  {
   "cell_type": "code",
   "execution_count": null,
   "id": "679e9b02",
   "metadata": {},
   "outputs": [],
   "source": []
  }
 ],
 "metadata": {
  "kernelspec": {
   "display_name": "Python 3",
   "language": "python",
   "name": "pythonjvsc74a57bd0aee8b7b246df8f9039afb4144a1f6fd8d2ca17a180786b69acc140d282b71a49"
  },
  "language_info": {
   "codemirror_mode": {
    "name": "ipython",
    "version": 3
   },
   "file_extension": ".py",
   "mimetype": "text/x-python",
   "name": "python",
   "nbconvert_exporter": "python",
   "pygments_lexer": "ipython3",
   "version": "3.9.7"
  }
 },
 "nbformat": 4,
 "nbformat_minor": 5
}
