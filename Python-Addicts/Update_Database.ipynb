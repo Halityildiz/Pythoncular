{
 "cells": [
  {
   "cell_type": "markdown",
   "id": "b6dca57d",
   "metadata": {},
   "source": [
    "Good luck with an easy question to remember our knowledge of dictionaries:))\n",
    "Tasks :\n",
    "1. if the username and password matches print hello username\n",
    "2. if the username and password does not match, ask, you want me to add into\n",
    "the database and add database\n",
    "3. show the updated database\n",
    "(Hint: Use Dictionary) output : updated Databese : {'Mehmet': 1234, 'Halit': 5678, 'Pedro': 1357, 'Muhammet': '3460'}"
   ]
  },
  {
   "cell_type": "code",
   "execution_count": null,
   "id": "c3962df8",
   "metadata": {},
   "outputs": [],
   "source": [
    "dictt = {'Dustin' : '1984'}\n",
    "while True:\n",
    "    username = input('Please enter your username to enter > ')\n",
    "    password = input('Please enter your password to enter > ')\n",
    "    if username.title() not in dictt:\n",
    "        soru = input(\"We couldn't find your records. Do you want to add your records into the database? (Y/N) > \")\n",
    "        if soru.lower() == 'y':\n",
    "            username_2 = input('Please enter your username to add > ')\n",
    "            password_2 = input('Please enter your password to add > ')\n",
    "            dictt[username_2.title()] = password_2\n",
    "            print('Thank you. Your records have been added to the database.')\n",
    "        elif soru.lower() == 'n':\n",
    "            print('Thank you.')\n",
    "            print(f'Updated Database : {dictt}')\n",
    "            break\n",
    "        else:\n",
    "            print('Something went wrong. Please try again.')\n",
    "    else:\n",
    "        if dictt[username.title()] == password:\n",
    "            print(f'Hello {username.title()}!')\n",
    "            break\n",
    "        else:\n",
    "            print('Wrong password!!! Try again.')"
   ]
  },
  {
   "cell_type": "code",
   "execution_count": null,
   "id": "940e45eb",
   "metadata": {},
   "outputs": [],
   "source": [
    "database = {'Mehmet': 1234, 'Halit': 5678, 'Pedro': 1357, 'Muhammet': '3460'}\n",
    "\n",
    "username = input('Enter username: ')\n",
    "passwrd = input('Enter password: ')\n",
    "\n",
    "if (username in database) and database[username] == int(passwrd) :\n",
    "    print(f\"Hello {username}\")\n",
    "\n",
    "else:\n",
    "    ask = input('Do you want to add new username and password(y / n) : ')\n",
    "    if ask.lower() == 'y' :\n",
    "        new_user = input('Enter a new username: ')\n",
    "        new_pass = int(input('Enter a new pass: '))\n",
    "        database[new_user] = new_pass\n",
    "        print(f\"Updated database {database}\")\n",
    "    \n",
    "    else:\n",
    "        print('Have a nice day!')"
   ]
  },
  {
   "cell_type": "code",
   "execution_count": null,
   "id": "fc65077a",
   "metadata": {},
   "outputs": [],
   "source": [
    "username = input(\" username : \")\n",
    "password = int(input(\" password : \"))\n",
    "if username==\"Mehmet\" and password==1234:\n",
    "    print('Hello {}!'.format(username))\n",
    "elif  username==\"Halit\" and password==5678:\n",
    "    print( 'Hello {}!'.format(username))\n",
    "elif  username==\"Pedro\" and password==1357:\n",
    "    print( 'Hello {}!'.format(username))\n",
    "else:\n",
    "    print(\"You want me to add into the database?\")\n",
    "    new_name=input(\"enter a new name : \")\n",
    "    new_password=input(\"Enter new password: \")\n",
    "    new_database={new_name :new_password}\n",
    "    database.update(new_database)\n",
    "    print(\"updated Databese :\", database)"
   ]
  }
 ],
 "metadata": {
  "kernelspec": {
   "display_name": "Python 3",
   "language": "python",
   "name": "pythonjvsc74a57bd0aee8b7b246df8f9039afb4144a1f6fd8d2ca17a180786b69acc140d282b71a49"
  },
  "language_info": {
   "codemirror_mode": {
    "name": "ipython",
    "version": 3
   },
   "file_extension": ".py",
   "mimetype": "text/x-python",
   "name": "python",
   "nbconvert_exporter": "python",
   "pygments_lexer": "ipython3",
   "version": "3.9.7"
  }
 },
 "nbformat": 4,
 "nbformat_minor": 5
}
