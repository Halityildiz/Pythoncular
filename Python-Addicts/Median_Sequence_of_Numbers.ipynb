{
 "cells": [
  {
   "cell_type": "markdown",
   "id": "eeb141ab",
   "metadata": {},
   "source": [
    "This problem was asked by Microsoft.\n",
    "Compute the running median of a sequence of numbers. That is, given a\n",
    "stream of numbers, print out the median of the list so far on each new\n",
    "element.\n",
    "Recall that the median of an even-numbered list is the average of the two\n",
    "middle numbers.\n",
    "For example, given the sequence [2, 1, 5, 7, 2, 0, 5], your algorithm\n",
    "should print out:\n",
    "2\n",
    "1.5\n",
    "2\n",
    "3.5\n",
    "2\n",
    "2\n",
    "2"
   ]
  },
  {
   "cell_type": "code",
   "execution_count": null,
   "id": "762f9714",
   "metadata": {},
   "outputs": [],
   "source": [
    "def median(liste):\n",
    "    for i in range(len(liste)):\n",
    "        new = []\n",
    "        new.extend(liste[:i + 1])\n",
    "        new.sort()\n",
    "        if len(new) == 1:\n",
    "            b = new[0]\n",
    "        elif len(new) % 2 == 0:\n",
    "            a = len(new) // 2\n",
    "            b = (new[a - 1] + new[a]) / 2\n",
    "            if b == int(b):\n",
    "                b = int(b)\n",
    "        elif len(new) % 2 != 0:\n",
    "            a = len(new) // 2\n",
    "            b = new[a]\n",
    "        print(b)\n",
    "\n",
    "median([2, 1, 5, 7, 2, 0, 5])"
   ]
  },
  {
   "cell_type": "code",
   "execution_count": null,
   "id": "f100d628",
   "metadata": {},
   "outputs": [],
   "source": [
    "def sayı(n):\n",
    "  t=1\n",
    "  l=[]\n",
    "  z=[]\n",
    "  for i in range(len(n)):\n",
    "    x=n[:t]\n",
    "    l+=[sorted(x)]\n",
    "    t+=1\n",
    "  for j in l:\n",
    "          if len(j)==1:\n",
    "              a=j[0]\n",
    "              z.append(a)\n",
    "          elif len(j)%2==0:\n",
    "              y=len(j)//2\n",
    "              a=(j[y]+j[y-1])/2\n",
    "              z.append(a)\n",
    "          else:\n",
    "              y=len(j)//2\n",
    "              a=j[y]\n",
    "              z.append(a)\n",
    "  return z\n",
    "print(sayı([2, 1, 5, 7, 2, 0, 5]))"
   ]
  },
  {
   "cell_type": "code",
   "execution_count": null,
   "id": "04dd4147",
   "metadata": {},
   "outputs": [],
   "source": [
    "list_given = [2, 1, 5, 7, 2, 0, 5]\n",
    "list1 = []\n",
    "for i in list_given:\n",
    "    list1.append(i)\n",
    "    if len(list1) == 1:\n",
    "        print(list1[0])\n",
    "    else:\n",
    "        list1.sort()\n",
    "        if len(list1) % 2 != 0 :\n",
    "            print(list1[(len(list1)// 2)] )\n",
    "        else:\n",
    "            print(((list1[(len(list1)// 2)]) +(list1[(len(list1)// 2)-1]))/2)"
   ]
  },
  {
   "cell_type": "code",
   "execution_count": 1,
   "id": "3bd47e9c",
   "metadata": {},
   "outputs": [
    {
     "name": "stdout",
     "output_type": "stream",
     "text": [
      "[2, 1.5, 2, 3.5, 2, 2.0, 2]\n"
     ]
    }
   ],
   "source": [
    "import statistics as sta\n",
    "dizi= [2, 1, 5, 7, 2, 0, 5]\n",
    "print([sta.median(dizi[:i]) for i in range(1,len(dizi)+1)])"
   ]
  },
  {
   "cell_type": "code",
   "execution_count": null,
   "id": "71116f12",
   "metadata": {},
   "outputs": [],
   "source": []
  },
  {
   "cell_type": "code",
   "execution_count": null,
   "id": "8a353126",
   "metadata": {},
   "outputs": [],
   "source": []
  }
 ],
 "metadata": {
  "kernelspec": {
   "display_name": "Python 3",
   "language": "python",
   "name": "pythonjvsc74a57bd0aee8b7b246df8f9039afb4144a1f6fd8d2ca17a180786b69acc140d282b71a49"
  },
  "language_info": {
   "codemirror_mode": {
    "name": "ipython",
    "version": 3
   },
   "file_extension": ".py",
   "mimetype": "text/x-python",
   "name": "python",
   "nbconvert_exporter": "python",
   "pygments_lexer": "ipython3",
   "version": "3.9.7"
  }
 },
 "nbformat": 4,
 "nbformat_minor": 5
}
