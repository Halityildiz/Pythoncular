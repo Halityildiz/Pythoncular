{
 "cells": [
  {
   "cell_type": "markdown",
   "id": "7afca2aa",
   "metadata": {},
   "source": [
    "Create a function which returns the next letters alphabetically in a given string. If the last letter is a \"Z\", change the rest of the letters accordingly.\n",
    "\n",
    "Examples\n",
    "next_letters(\"A\") ➞ \"B\"\n",
    "\n",
    "next_letters(\"ABC\") ➞ \"ABD\"\n",
    "\n",
    "next_letters(\"Z\") ➞ \"AA\"\n",
    "\n",
    "next_letters(\"CAZ\") ➞ \"CBA\"\n",
    "\n",
    "next_letters(\"\") ➞ \"A\"\n",
    "Notes\n",
    "Tests will all be in CAPITALS.\n",
    "Empty inputs should return a capital \"A\" (as if it were in letter position 0!).\n",
    "Think about the letter \"Z\" like the number 9 and how it carries over to increment the next letter/digit over."
   ]
  },
  {
   "cell_type": "code",
   "execution_count": null,
   "id": "dde844b4",
   "metadata": {},
   "outputs": [],
   "source": [
    "def next_letters(text):\n",
    "\n",
    "    letters_list = list(text)\n",
    "    new_text = \"\"\n",
    "\n",
    "    while letters_list[-1:] == [\"Z\"]:\n",
    "      new_text += \"A\"\n",
    "      del letters_list[-1]\n",
    "\n",
    "    if letters_list[-1:] == []:\n",
    "      new_text += \"A\"\n",
    "    else:\n",
    "      new_text += chr(ord(letters_list[-1]) + 1)\n",
    "      del letters_list[-1]\n",
    "      for i in reversed(letters_list):\n",
    "        new_text += i\n",
    "\n",
    "    return \"\".join(reversed(new_text))\n",
    "\n",
    "next_letters(\"CZADZZ\")"
   ]
  },
  {
   "cell_type": "code",
   "execution_count": 1,
   "id": "0aecd5e2",
   "metadata": {},
   "outputs": [
    {
     "data": {
      "text/plain": [
       "'ZAAA'"
      ]
     },
     "execution_count": 1,
     "metadata": {},
     "output_type": "execute_result"
    }
   ],
   "source": [
    "def next_alphabet(text):    \n",
    "    harfler = 'ABCDEFGHIJKLMNOPQRSTUVWXYZ'\n",
    "    elde, son, a, result, dictt = False, True, 0, '', {}\n",
    "    for i in harfler[:-1]:\n",
    "        dictt[i] = harfler[a + 1]\n",
    "        a += 1\n",
    "    dictt['Z'] = 'AA'\n",
    "    if text == 'Z': return 'AA'\n",
    "    elif text == '': return 'A'\n",
    "    else:\n",
    "        for i in text[::-1]:\n",
    "            if son:\n",
    "                if i == 'Z':\n",
    "                    result += dictt[i][0]\n",
    "                    elde = True\n",
    "                    son = False\n",
    "                else:\n",
    "                    result += dictt[i]\n",
    "                    son = False\n",
    "            else:\n",
    "                if elde:\n",
    "                    if i == 'Z':result += dictt[i][0]\n",
    "                    else:\n",
    "                        result += dictt[i]\n",
    "                        elde = False\n",
    "                else:result += i\n",
    "    if elde:result += 'A'\n",
    "    return result[::-1]\n",
    "\n",
    "next_alphabet(\"YZZZ\")"
   ]
  },
  {
   "cell_type": "code",
   "execution_count": null,
   "id": "937592ca",
   "metadata": {},
   "outputs": [],
   "source": []
  },
  {
   "cell_type": "code",
   "execution_count": null,
   "id": "ea57a1ed",
   "metadata": {},
   "outputs": [],
   "source": []
  }
 ],
 "metadata": {
  "kernelspec": {
   "display_name": "Python 3",
   "language": "python",
   "name": "pythonjvsc74a57bd0aee8b7b246df8f9039afb4144a1f6fd8d2ca17a180786b69acc140d282b71a49"
  },
  "language_info": {
   "codemirror_mode": {
    "name": "ipython",
    "version": 3
   },
   "file_extension": ".py",
   "mimetype": "text/x-python",
   "name": "python",
   "nbconvert_exporter": "python",
   "pygments_lexer": "ipython3",
   "version": "3.9.7"
  }
 },
 "nbformat": 4,
 "nbformat_minor": 5
}
