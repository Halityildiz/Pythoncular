{
 "cells": [
  {
   "cell_type": "markdown",
   "id": "2cff3430",
   "metadata": {},
   "source": [
    "ROT13 is a simple letter substitution cipher that replaces a letter with the letter 13 letters after it in the alphabet. ROT13 is an example of the Caesar cipher.\n",
    "Create a function that takes a string and returns the string ciphered with Rot13. If there are numbers or special characters included in the string, they should be returned as they are. Only letters from the latin/english alphabet should be shifted, like in the original Rot13\n",
    "Please note that using encode is considered cheating.\n",
    "rot13(\"test\") ====> \"grfg\"\n",
    "rot13(\"Test\") =====> \"Grfg\"\n",
    "rot13('This is an encrypted message!') =====> 'Guvf vf na rapelcgrq zrffntr!'"
   ]
  },
  {
   "cell_type": "code",
   "execution_count": 1,
   "id": "e50a56d1",
   "metadata": {},
   "outputs": [
    {
     "name": "stdout",
     "output_type": "stream",
     "text": [
      "Enter a wordtest\n",
      "test\n",
      "grfg\n"
     ]
    }
   ],
   "source": [
    "word = input(\"Enter a word\")\n",
    "def cyripto(word):\n",
    "    alphabet = \"abcdefghijklmnöpqrstüvwxyz\"\n",
    "    rot13 =   \"nöpqrstüvwxyzabcdefghijklm\"\n",
    "    new = \"\"\n",
    "    for i in word:\n",
    "        if i.isupper() :\n",
    "            new += (alphabet[rot13.index(i.lower())]).upper()\n",
    "        elif i.islower() :\n",
    "            new += alphabet[rot13.index(i)]\n",
    "        else:\n",
    "            new += i\n",
    "    return new\n",
    "print(word)\n",
    "print(cyripto(word))"
   ]
  },
  {
   "cell_type": "code",
   "execution_count": 2,
   "id": "4ab8b4f9",
   "metadata": {},
   "outputs": [
    {
     "data": {
      "text/plain": [
       "'Guvf vf na rapelcgrq zrffntr!'"
      ]
     },
     "execution_count": 2,
     "metadata": {},
     "output_type": "execute_result"
    }
   ],
   "source": [
    "def cipher(text, n):\n",
    "    import string\n",
    "    harfler = string.ascii_lowercase\n",
    "    yeni = ''\n",
    "    buyuk = False\n",
    "    for i in text:\n",
    "        if i.isalpha():\n",
    "            if i.isupper():\n",
    "                i = i.lower()\n",
    "                buyuk = True\n",
    "            ind = harfler.find(i)\n",
    "            ind = ind + n\n",
    "            if ind > len(harfler) - 1:\n",
    "                ind = ind - len(harfler)\n",
    "            i = harfler[ind]\n",
    "            if buyuk:\n",
    "                yeni += i.upper()\n",
    "                buyuk = False\n",
    "            else:\n",
    "                yeni += i\n",
    "        else:\n",
    "            yeni += i\n",
    "    return yeni\n",
    "\n",
    "cipher('This is an encrypted message!', 13)"
   ]
  },
  {
   "cell_type": "code",
   "execution_count": 3,
   "id": "fc578683",
   "metadata": {},
   "outputs": [
    {
     "name": "stdout",
     "output_type": "stream",
     "text": [
      "Guvf vf na rapelcgrq zrffntr!\n"
     ]
    }
   ],
   "source": [
    "import string\n",
    "list_alp=list(string.ascii_lowercase)+[\" \",\"!\",\".\"]\n",
    "list_olp=list(string.ascii_lowercase[13:])+list(string.ascii_lowercase[:13])+[\" \",\"!\",\".\"]\n",
    "first_rot={i:j for i,j in zip(list_alp,list_olp)}\n",
    "def rot_13(string):\n",
    "    org,exploit=string,\"\"\n",
    "    for i in range(len(org)):\n",
    "        if org[i].isupper():exploit+=first_rot[org[i].lower()].upper()\n",
    "        else:exploit+=first_rot[org[i]]\n",
    "    return exploit\n",
    "print(rot_13(\"This is an encrypted message!\"))"
   ]
  },
  {
   "cell_type": "code",
   "execution_count": 4,
   "id": "7879bbb4",
   "metadata": {},
   "outputs": [
    {
     "name": "stdout",
     "output_type": "stream",
     "text": [
      "ryznnezhg\n"
     ]
    }
   ],
   "source": [
    "def rot13(x):\n",
    "    alf = \"abcdefghijklmnopqrstuvwxyz\"\n",
    "    rot13 = \"nöpqrstüvwxyzabcdefghijklm\"\n",
    "    p = \"\"\n",
    "    s = \"\"\n",
    "    p =[rot13[alf.index(j)] for i in x for j in i]\n",
    "    for i in p:\n",
    "        s = s + i\n",
    "    return s\n",
    "print(rot13(\"elmaarmut\"))"
   ]
  }
 ],
 "metadata": {
  "kernelspec": {
   "display_name": "Python 3",
   "language": "python",
   "name": "pythonjvsc74a57bd0aee8b7b246df8f9039afb4144a1f6fd8d2ca17a180786b69acc140d282b71a49"
  },
  "language_info": {
   "codemirror_mode": {
    "name": "ipython",
    "version": 3
   },
   "file_extension": ".py",
   "mimetype": "text/x-python",
   "name": "python",
   "nbconvert_exporter": "python",
   "pygments_lexer": "ipython3",
   "version": "3.9.7"
  }
 },
 "nbformat": 4,
 "nbformat_minor": 5
}
