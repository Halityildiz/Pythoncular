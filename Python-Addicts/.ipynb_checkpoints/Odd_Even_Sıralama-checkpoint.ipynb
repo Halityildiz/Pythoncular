{
 "cells": [
  {
   "cell_type": "markdown",
   "id": "d50c8d4d",
   "metadata": {},
   "source": [
    "Create a list of strings based on a list of numbers\n",
    "The rules:\n",
    "If the number is a multiple of five and odd, the string should be 'five odd'\n",
    "If the number is a multiple of five and even, the string should be 'five even'\n",
    "If the number is odd, the string is 'odd'\n",
    "If the number is even, the string is 'even'\n",
    "we can solve this guestion using loop easly it is okey. \n",
    "But can we solve it using list comprehension ? \n",
    "given list =numbers = [1, 3, 4, 6, 81, 80, 100, 95] \n",
    "expected output = ['odd', 'odd', 'even', 'even', 'odd', 'five even', 'five even', 'five odd']"
   ]
  },
  {
   "cell_type": "code",
   "execution_count": null,
   "id": "28c5a843",
   "metadata": {},
   "outputs": [],
   "source": [
    "numbers = [1, 3, 4, 6, 81, 80, 100, 95] \n",
    "def check(i):\n",
    "    if i % 5 :\n",
    "        if i % 2:\n",
    "            return \"odd\"\n",
    "        else:\n",
    "            return \"even\"\n",
    "    else:\n",
    "        if i % 2:\n",
    "            return \"five odd\"\n",
    "        else:\n",
    "            return \"five even\"\n",
    "        \n",
    "result = list(map(check, numbers))    \n",
    "print(result)"
   ]
  },
  {
   "cell_type": "code",
   "execution_count": 1,
   "id": "fb03efc3",
   "metadata": {},
   "outputs": [
    {
     "name": "stdout",
     "output_type": "stream",
     "text": [
      "['odd', 'odd', 'even', 'even', 'odd', 'five even', 'five even', 'five odd']\n"
     ]
    }
   ],
   "source": [
    "number_list = [1, 3, 4, 6, 81, 80, 100, 95]\n",
    "a = ['five even' if i % 5 == 0 and i % 2 == 0 else 'five odd' if i % 5 == 0 and i % 2 != 0 else 'odd' if i % 2 != 0 else 'even' for i in number_list]\n",
    "print(a)"
   ]
  },
  {
   "cell_type": "code",
   "execution_count": 2,
   "id": "12f39460",
   "metadata": {},
   "outputs": [
    {
     "name": "stdout",
     "output_type": "stream",
     "text": [
      "['odd', 'odd', 'even', 'even', 'odd', 'five_even', 'five_even', 'five_odd']\n"
     ]
    }
   ],
   "source": [
    "numbers = [1, 3, 4, 6, 81, 80, 100, 95]\n",
    "\n",
    "print([\"five_even\" if n%5==0 and n%2==0 else \"five_odd\" if n%5==0 else \"even\" if n%2==0 else \"odd\" for n in numbers])"
   ]
  },
  {
   "cell_type": "code",
   "execution_count": 3,
   "id": "02509555",
   "metadata": {},
   "outputs": [
    {
     "name": "stdout",
     "output_type": "stream",
     "text": [
      "['odd', 'odd', 'even', 'even', 'odd', 'five_even', 'five_even', 'five_odd']\n"
     ]
    }
   ],
   "source": [
    "numbers = [1, 3, 4, 6, 81, 80, 100, 95]\n",
    "\n",
    "print ([['odd', 'even', 'five_odd', 'five_even'][2*(n%5==0)+(n%2==0)] for n in numbers])"
   ]
  },
  {
   "cell_type": "code",
   "execution_count": null,
   "id": "e73a4507",
   "metadata": {},
   "outputs": [],
   "source": []
  }
 ],
 "metadata": {
  "kernelspec": {
   "display_name": "Python 3",
   "language": "python",
   "name": "pythonjvsc74a57bd0aee8b7b246df8f9039afb4144a1f6fd8d2ca17a180786b69acc140d282b71a49"
  },
  "language_info": {
   "codemirror_mode": {
    "name": "ipython",
    "version": 3
   },
   "file_extension": ".py",
   "mimetype": "text/x-python",
   "name": "python",
   "nbconvert_exporter": "python",
   "pygments_lexer": "ipython3",
   "version": "3.9.7"
  }
 },
 "nbformat": 4,
 "nbformat_minor": 5
}
