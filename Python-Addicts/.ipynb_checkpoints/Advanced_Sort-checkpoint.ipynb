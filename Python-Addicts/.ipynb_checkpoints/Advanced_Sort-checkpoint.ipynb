{
 "cells": [
  {
   "cell_type": "markdown",
   "id": "ca8c3d46",
   "metadata": {},
   "source": [
    "Create a function that takes a list of numbers or strings and returns a list with the items from the original list stored into sublists. Items of the same value should be in the same sublist.\n",
    "Examples\n",
    "advanced_sort([2, 1, 2, 1]) ➞ [[2, 2], [1, 1]]\n",
    "\n",
    "advanced_sort([5, 4, 5, 5, 4, 3]) ➞ [[5, 5, 5], [4, 4], [3]]\n",
    "\n",
    "advanced_sort([\"b\", \"a\", \"b\", \"a\", \"c\"]) ➞ [[\"b\", \"b\"], [\"a\", \"a\"], [\"c\"]]\n",
    "Notes\n",
    "The sublists should be returned in the order of each element's first appearance in the given list.\n",
    "\n"
   ]
  },
  {
   "cell_type": "code",
   "execution_count": 3,
   "id": "f9917d4c",
   "metadata": {},
   "outputs": [
    {
     "data": {
      "text/plain": [
       "[[2, 2], [1, 1]]"
      ]
     },
     "execution_count": 3,
     "metadata": {},
     "output_type": "execute_result"
    }
   ],
   "source": [
    "def advanced_sort(lst):\n",
    "    lst_nw, set_nw = [] , set()\n",
    "    for i in lst:\n",
    "        if i not in set_nw:\n",
    "            lst_nw.append([i for x in range(lst.count(i))])\n",
    "            set_nw.add(i)\n",
    "    return lst_nw\n",
    "advanced_sort([2, 1, 2, 1])"
   ]
  },
  {
   "cell_type": "code",
   "execution_count": 4,
   "id": "f557d76d",
   "metadata": {},
   "outputs": [
    {
     "data": {
      "text/plain": [
       "[['b', 'b'], ['a', 'a'], ['c']]"
      ]
     },
     "execution_count": 4,
     "metadata": {},
     "output_type": "execute_result"
    }
   ],
   "source": [
    "def harf(n):\n",
    "  l={}\n",
    "  for i in n:\n",
    "      if i  in l:\n",
    "        l[i]+=[i]\n",
    "      else:\n",
    "        l[i]=[i]\n",
    "  return list(l.values())\n",
    "harf([\"b\", \"a\", \"b\", \"a\", \"c\"])\n"
   ]
  },
  {
   "cell_type": "code",
   "execution_count": 5,
   "id": "dcf0c04b",
   "metadata": {},
   "outputs": [
    {
     "name": "stdout",
     "output_type": "stream",
     "text": [
      "[['2', '2'], ['1', '1']]\n"
     ]
    }
   ],
   "source": [
    "def advanced_sort(lst):\n",
    "    list1 = []\n",
    "    list2 = []\n",
    "    list3 = []\n",
    "    last_list = []\n",
    "    for i in lst:   \n",
    "        list1.append(str(i) * lst.count(i))\n",
    "    for j in list1:\n",
    "        if j not in list2:\n",
    "            list2.append(j)\n",
    "    for q in list2:\n",
    "        list3 = list(q)\n",
    "        last_list.append(list3)\n",
    "    return last_list\n",
    "print(advanced_sort([2, 1, 2, 1]))"
   ]
  },
  {
   "cell_type": "code",
   "execution_count": 6,
   "id": "902c2d77",
   "metadata": {},
   "outputs": [
    {
     "data": {
      "text/plain": [
       "[[5, 5, 5], [4, 4], [3]]"
      ]
     },
     "execution_count": 6,
     "metadata": {},
     "output_type": "execute_result"
    }
   ],
   "source": [
    "def advanced_sort(list1):\n",
    "    dict1 = {}\n",
    "    ind = 0\n",
    "    for i in list1:\n",
    "        for j in list1:\n",
    "            if i == j:\n",
    "                if i not in dict1:\n",
    "                    dict1[i] = [j]\n",
    "                \n",
    "                if (len(dict1[i]) < list1.count(i)):\n",
    "                    dict1[i].append(j)\n",
    "                \n",
    "    \n",
    "    return list(dict1.values())\n",
    "    \n",
    "    \n",
    "advanced_sort([5, 4, 5, 5, 4, 3])"
   ]
  },
  {
   "cell_type": "code",
   "execution_count": null,
   "id": "8c9a35b1",
   "metadata": {},
   "outputs": [],
   "source": []
  },
  {
   "cell_type": "code",
   "execution_count": null,
   "id": "ffe1e653",
   "metadata": {},
   "outputs": [],
   "source": []
  }
 ],
 "metadata": {
  "kernelspec": {
   "display_name": "Python 3",
   "language": "python",
   "name": "pythonjvsc74a57bd0aee8b7b246df8f9039afb4144a1f6fd8d2ca17a180786b69acc140d282b71a49"
  },
  "language_info": {
   "codemirror_mode": {
    "name": "ipython",
    "version": 3
   },
   "file_extension": ".py",
   "mimetype": "text/x-python",
   "name": "python",
   "nbconvert_exporter": "python",
   "pygments_lexer": "ipython3",
   "version": "3.9.7"
  }
 },
 "nbformat": 4,
 "nbformat_minor": 5
}
