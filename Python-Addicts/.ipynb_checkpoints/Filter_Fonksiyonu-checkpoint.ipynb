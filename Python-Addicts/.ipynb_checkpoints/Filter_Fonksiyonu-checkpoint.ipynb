{
 "cells": [
  {
   "cell_type": "markdown",
   "id": "34889e3c",
   "metadata": {},
   "source": [
    "Filter fonksiyonunu hatırlayalım! 1'den 100'e kadar olan sayılardan asal olanları listeleyiniz. \n",
    "Filter fonksiyonunu kullanmanız rica olunur!"
   ]
  },
  {
   "cell_type": "code",
   "execution_count": 1,
   "id": "6822ff27",
   "metadata": {},
   "outputs": [
    {
     "name": "stdout",
     "output_type": "stream",
     "text": [
      "[2, 3, 5, 7, 11, 13, 17, 19, 23, 29, 31, 37, 41, 43, 47, 53, 59, 61, 67, 71, 73, 79, 83, 89, 97]\n"
     ]
    }
   ],
   "source": [
    "def prime(y):\n",
    "    prime_list = []\n",
    "    for i in range(1, y + 1):\n",
    "        if y % i == 0:\n",
    "            prime_list.append(i)\n",
    "    if prime_list == [1, y]:\n",
    "        return True\n",
    "    else:\n",
    "        return False\n",
    "\n",
    "asal = list(filter(prime, list(range(1, 100))))\n",
    "print(asal)"
   ]
  },
  {
   "cell_type": "code",
   "execution_count": 2,
   "id": "bd0d1296",
   "metadata": {},
   "outputs": [
    {
     "data": {
      "text/plain": [
       "[2,\n",
       " 3,\n",
       " 5,\n",
       " 7,\n",
       " 11,\n",
       " 13,\n",
       " 17,\n",
       " 19,\n",
       " 23,\n",
       " 29,\n",
       " 31,\n",
       " 37,\n",
       " 41,\n",
       " 43,\n",
       " 47,\n",
       " 53,\n",
       " 59,\n",
       " 61,\n",
       " 67,\n",
       " 71,\n",
       " 73,\n",
       " 79,\n",
       " 83,\n",
       " 89,\n",
       " 97]"
      ]
     },
     "execution_count": 2,
     "metadata": {},
     "output_type": "execute_result"
    }
   ],
   "source": [
    "def asal(x):\n",
    "    if x == 1 :\n",
    "        return False\n",
    "    elif x == 2 :\n",
    "        return True\n",
    "    else :\n",
    "        i = 2\n",
    "        while i < x :\n",
    "            if x % i == 0 :\n",
    "                return False\n",
    "            i += 1 \n",
    "        return True\n",
    "list(filter(asal,range(1,100)))"
   ]
  },
  {
   "cell_type": "code",
   "execution_count": 3,
   "id": "3a2506ef",
   "metadata": {},
   "outputs": [
    {
     "data": {
      "text/plain": [
       "[2,\n",
       " 3,\n",
       " 5,\n",
       " 7,\n",
       " 11,\n",
       " 13,\n",
       " 17,\n",
       " 19,\n",
       " 23,\n",
       " 29,\n",
       " 31,\n",
       " 37,\n",
       " 41,\n",
       " 43,\n",
       " 47,\n",
       " 53,\n",
       " 59,\n",
       " 61,\n",
       " 67,\n",
       " 71,\n",
       " 73,\n",
       " 79,\n",
       " 83,\n",
       " 89,\n",
       " 97]"
      ]
     },
     "execution_count": 3,
     "metadata": {},
     "output_type": "execute_result"
    }
   ],
   "source": [
    "def isprime(number):\n",
    "    number = int(number)\n",
    "    count = 0\n",
    "    for i in range(1, number+1):\n",
    "         if number%i == 0: \n",
    "            count += 1\n",
    "    return count < 3 and i != 0 and i != 1\n",
    "    \n",
    "def listed_prime(num):\n",
    "    return list(filter(isprime, range(1, num + 1)))\n",
    "\n",
    "listed_prime(100)"
   ]
  },
  {
   "cell_type": "code",
   "execution_count": 4,
   "id": "298287c3",
   "metadata": {},
   "outputs": [
    {
     "name": "stdout",
     "output_type": "stream",
     "text": [
      "[2, 3, 5, 7, 11, 13, 17, 19, 23, 29, 31, 37, 41, 43, 47, 53, 59, 61, 67, 71, 73, 79, 83, 89, 97]\n"
     ]
    }
   ],
   "source": [
    "def primer(prime):\n",
    "    allnum=[p for p in range(2,prime)]\n",
    "    prime_list=[k for k in allnum if prime%k==0]\n",
    "    if any(prime_list):pass\n",
    "    else:return prime\n",
    "print(list(filter(primer,range(2,101))))"
   ]
  }
 ],
 "metadata": {
  "kernelspec": {
   "display_name": "Python 3",
   "language": "python",
   "name": "pythonjvsc74a57bd0aee8b7b246df8f9039afb4144a1f6fd8d2ca17a180786b69acc140d282b71a49"
  },
  "language_info": {
   "codemirror_mode": {
    "name": "ipython",
    "version": 3
   },
   "file_extension": ".py",
   "mimetype": "text/x-python",
   "name": "python",
   "nbconvert_exporter": "python",
   "pygments_lexer": "ipython3",
   "version": "3.9.7"
  }
 },
 "nbformat": 4,
 "nbformat_minor": 5
}
