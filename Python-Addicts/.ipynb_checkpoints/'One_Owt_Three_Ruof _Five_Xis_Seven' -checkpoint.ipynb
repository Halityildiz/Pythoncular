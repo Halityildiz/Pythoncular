{
 "cells": [
  {
   "cell_type": "markdown",
   "id": "c7b0133b",
   "metadata": {},
   "source": [
    "Write your solution:\n",
    "* Output: 'one owt three ruof five xis seven' \n",
    "* Input:  'one two three four five six seven'"
   ]
  },
  {
   "cell_type": "code",
   "execution_count": null,
   "id": "2c858ca3",
   "metadata": {},
   "outputs": [],
   "source": [
    "def modify(text):\n",
    "\n",
    "    text = text.split()\n",
    "    for i in range(1, len(text), 2):\n",
    "         text[i] = \"\".join(reversed(text[i]))\n",
    "    return \" \".join(text)\n",
    "\n",
    "modify('one two three four five six seven')"
   ]
  },
  {
   "cell_type": "code",
   "execution_count": null,
   "id": "2f65a0d6",
   "metadata": {},
   "outputs": [],
   "source": [
    "def bi_düz_bi_ters(aaa):\n",
    "    liste = aaa.split()\n",
    "    new = \"\"\n",
    "    for i in range(len(liste)):\n",
    "        if i % 2:\n",
    "            new += (liste[i])[::-1] + \" \"\n",
    "        else:\n",
    "            new += liste[i] + \" \"\n",
    "    return new.rstrip()\n",
    "bi_düz_bi_ters(\"one two three four five six seven\")"
   ]
  },
  {
   "cell_type": "code",
   "execution_count": 1,
   "id": "be3a00ae",
   "metadata": {},
   "outputs": [
    {
     "data": {
      "text/plain": [
       "['one', 'two', 'three', 'four', 'five', 'six', 'seven']"
      ]
     },
     "execution_count": 1,
     "metadata": {},
     "output_type": "execute_result"
    }
   ],
   "source": [
    "def kelime(n):\n",
    "  x=dict(enumerate(n.split()))\n",
    "  return [x.get(i)[::-1] if i%2==1 else x.get(i) for i in x]\n",
    "kelime('one owt three ruof five xis seven' )"
   ]
  }
 ],
 "metadata": {
  "kernelspec": {
   "display_name": "Python 3",
   "language": "python",
   "name": "pythonjvsc74a57bd0aee8b7b246df8f9039afb4144a1f6fd8d2ca17a180786b69acc140d282b71a49"
  },
  "language_info": {
   "codemirror_mode": {
    "name": "ipython",
    "version": 3
   },
   "file_extension": ".py",
   "mimetype": "text/x-python",
   "name": "python",
   "nbconvert_exporter": "python",
   "pygments_lexer": "ipython3",
   "version": "3.9.7"
  }
 },
 "nbformat": 4,
 "nbformat_minor": 5
}
