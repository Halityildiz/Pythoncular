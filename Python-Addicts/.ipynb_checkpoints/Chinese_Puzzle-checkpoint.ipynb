{
 "cells": [
  {
   "cell_type": "markdown",
   "id": "8ed0e108",
   "metadata": {},
   "source": [
    "Write a program to solve a classic ancient Chinese puzzle: \n",
    "We count 35 heads and 94 legs among the chickens and rabbits in a farm. \n",
    "How many rabbits and how many chickens do we have?"
   ]
  },
  {
   "cell_type": "code",
   "execution_count": 1,
   "id": "8dcd5003",
   "metadata": {},
   "outputs": [
    {
     "data": {
      "text/plain": [
       "'Chickens: 23 || Rabbits: 12'"
      ]
     },
     "execution_count": 1,
     "metadata": {},
     "output_type": "execute_result"
    }
   ],
   "source": [
    "def chinese_puzzle(heads, legs):    \n",
    "    for c in range(heads):\n",
    "        for r in range(heads):\n",
    "            if (2 * c) + (4 * r) == legs and c + r == heads:\n",
    "                chic = c\n",
    "                rab = r\n",
    "    return f'Chickens: {chic} || Rabbits: {rab}'\n",
    "\n",
    "chinese_puzzle(35, 94)"
   ]
  },
  {
   "cell_type": "code",
   "execution_count": 2,
   "id": "673e09b5",
   "metadata": {},
   "outputs": [
    {
     "data": {
      "text/plain": [
       "'tavuk sayısı : 23 tavşan sayısı : 12'"
      ]
     },
     "execution_count": 2,
     "metadata": {},
     "output_type": "execute_result"
    }
   ],
   "source": [
    "def sayı(n,k):\n",
    " t=0\n",
    " for i in range(1,n):\n",
    "   t=i*4\n",
    "   x=k-t\n",
    "   y=x//2\n",
    "   if y+i==n:\n",
    "     break\n",
    " return f\"tavuk sayısı : {int(y)} tavşan sayısı : {i}\"\n",
    "sayı(35,94)"
   ]
  },
  {
   "cell_type": "code",
   "execution_count": 4,
   "id": "8cdb893b",
   "metadata": {},
   "outputs": [
    {
     "name": "stdout",
     "output_type": "stream",
     "text": [
      "1 adet rabbit ve 45 adet tavuk vardır\n",
      "2 adet rabbit ve 43 adet tavuk vardır\n",
      "3 adet rabbit ve 41 adet tavuk vardır\n",
      "4 adet rabbit ve 39 adet tavuk vardır\n",
      "5 adet rabbit ve 37 adet tavuk vardır\n",
      "6 adet rabbit ve 35 adet tavuk vardır\n",
      "7 adet rabbit ve 33 adet tavuk vardır\n",
      "8 adet rabbit ve 31 adet tavuk vardır\n",
      "9 adet rabbit ve 29 adet tavuk vardır\n",
      "10 adet rabbit ve 27 adet tavuk vardır\n",
      "11 adet rabbit ve 25 adet tavuk vardır\n",
      "12 adet rabbit ve 23 adet tavuk vardır\n",
      "13 adet rabbit ve 21 adet tavuk vardır\n",
      "14 adet rabbit ve 19 adet tavuk vardır\n",
      "15 adet rabbit ve 17 adet tavuk vardır\n",
      "16 adet rabbit ve 15 adet tavuk vardır\n",
      "17 adet rabbit ve 13 adet tavuk vardır\n",
      "18 adet rabbit ve 11 adet tavuk vardır\n",
      "19 adet rabbit ve 9 adet tavuk vardır\n",
      "20 adet rabbit ve 7 adet tavuk vardır\n",
      "21 adet rabbit ve 5 adet tavuk vardır\n",
      "22 adet rabbit ve 3 adet tavuk vardır\n",
      "23 adet rabbit ve 1 adet tavuk vardır\n"
     ]
    }
   ],
   "source": [
    "h = 35\n",
    "l = 94\n",
    "a, b = 4, 2\n",
    "for i in range(1,94):\n",
    "    for j in range(1,94):\n",
    "        if ((a * i) + (b * j)) == 94:\n",
    "            print(f\"{i} adet rabbit ve {j} adet tavuk vardır\")"
   ]
  }
 ],
 "metadata": {
  "kernelspec": {
   "display_name": "Python 3",
   "language": "python",
   "name": "pythonjvsc74a57bd0aee8b7b246df8f9039afb4144a1f6fd8d2ca17a180786b69acc140d282b71a49"
  },
  "language_info": {
   "codemirror_mode": {
    "name": "ipython",
    "version": 3
   },
   "file_extension": ".py",
   "mimetype": "text/x-python",
   "name": "python",
   "nbconvert_exporter": "python",
   "pygments_lexer": "ipython3",
   "version": "3.9.7"
  }
 },
 "nbformat": 4,
 "nbformat_minor": 5
}
