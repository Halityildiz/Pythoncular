{
 "cells": [
  {
   "cell_type": "markdown",
   "id": "bd2d5414",
   "metadata": {},
   "source": [
    "- Write a function named add_dots that takes a string and adds \".\" in between each letter.\n",
    "- For example\n",
    "- calling add_dots(\"test\") should return the string \"t.e.s.t\".\n",
    "- Then, below the add_dots function,\n",
    "- write another function named remove_dots that removes all dots from a string.\n",
    "- For example\n",
    "- calling remove_dots(\"t.e.s.t\") should return \"test\".\n",
    "- If both functions are correct,\n",
    "- calling remove_dots(add_dots(string)) should return back the original string for any string."
   ]
  },
  {
   "cell_type": "code",
   "execution_count": null,
   "id": "6e63ff89",
   "metadata": {},
   "outputs": [],
   "source": [
    "def add_dots(string):\n",
    "    return \".\".join(string)\n",
    "\n",
    "def remove_dots(string):\n",
    "    return string.replace(\".\", \"\")\n",
    "\n",
    "remove_dots(add_dots(\"altay\"))"
   ]
  }
 ],
 "metadata": {
  "kernelspec": {
   "display_name": "Python 3",
   "language": "python",
   "name": "pythonjvsc74a57bd0aee8b7b246df8f9039afb4144a1f6fd8d2ca17a180786b69acc140d282b71a49"
  },
  "language_info": {
   "codemirror_mode": {
    "name": "ipython",
    "version": 3
   },
   "file_extension": ".py",
   "mimetype": "text/x-python",
   "name": "python",
   "nbconvert_exporter": "python",
   "pygments_lexer": "ipython3",
   "version": "3.9.7"
  }
 },
 "nbformat": 4,
 "nbformat_minor": 5
}
