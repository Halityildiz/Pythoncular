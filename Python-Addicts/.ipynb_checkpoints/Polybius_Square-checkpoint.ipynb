{
 "cells": [
  {
   "cell_type": "markdown",
   "id": "7d042bf9",
   "metadata": {},
   "source": [
    "The Polybius Square cipher is a simple substitution cipher that makes use of a 5x5 square grid. The letters A-Z are written into the grid, with \"I\" and \"J\" typically sharing a slot (as there are 26 letters and only 25 slots).\n",
    "\n",
    "1\t2\t3\t4\t5\n",
    "1\tA\tB\tC\tD\tE\n",
    "2\tF\tG\tH\tI/J\tK\n",
    "3\tL\tM\tN\tO\tP\n",
    "4\tQ\tR\tS\tT\tU\n",
    "5\tV\tW\tX\tY\tZ\n",
    "To encipher a message, each letter is merely replaced by its row and column numbers in the grid.\n",
    "\n",
    "Create a function that takes a plaintext or ciphertext message, and returns the corresponding ciphertext or plaintext.\n",
    "\n",
    "Examples\n",
    "\n",
    "polybius(\"Hi\") ➞ \"2324\"\n",
    "\n",
    "polybius(\"2324  4423154215\") ➞ \"hi there\"\n",
    "\n",
    "polybius(\"543445 14343344 522433 21422415331443 52244423 4311311114\") ➞ \"you dont win friends with salad\"\n",
    "Notes\n",
    "\n",
    "As \"I\" and \"J\" share a slot, both are enciphered into 24, but deciphered only into \"I\" (see third and fourth test)."
   ]
  },
  {
   "cell_type": "code",
   "execution_count": 6,
   "id": "deb36d7b",
   "metadata": {},
   "outputs": [
    {
     "ename": "SyntaxError",
     "evalue": "invalid non-printable character U+00A0 (1220049347.py, line 3)",
     "output_type": "error",
     "traceback": [
      "\u001b[0;36m  File \u001b[0;32m\"/var/folders/ts/df_29m3d4_gfjbs6wvbzs_kc0000gn/T/ipykernel_6424/1220049347.py\"\u001b[0;36m, line \u001b[0;32m3\u001b[0m\n\u001b[0;31m    text = \"\"\u001b[0m\n\u001b[0m        ^\u001b[0m\n\u001b[0;31mSyntaxError\u001b[0m\u001b[0;31m:\u001b[0m invalid non-printable character U+00A0\n"
     ]
    }
   ],
   "source": [
    "def polybius(message):\n",
    "\n",
    "  text = \"\"\n",
    "\n",
    "  list1 = [\n",
    "           [\"A\", \"B\", \"C\", \"D\", \"E\"],\n",
    "           [\"F\", \"G\", \"H\", \"I/J\", \"K\"],\n",
    "           [\"L\", \"M\", \"N\", \"O\", \"P\"],\n",
    "           [\"Q\", \"R\", \"S\", \"T\", \"U\"],\n",
    "           [\"V\", \"W\", \"X\", \"Y\", \"Z\"]\n",
    "          ]\n",
    "\n",
    "  list1[1][3] = \"I\"\n",
    "\n",
    "  if message[0].isnumeric():\n",
    "    message = \"  \".join(message.split())\n",
    "    for i in range(0, len(message), 2):\n",
    "      for x in message[i+1:i+2]:\n",
    "        if x.isspace():\n",
    "          text += \" \"\n",
    "        else:\n",
    "          text += list1[(int(message[i]))-1][int(x)-1]\n",
    "  else:\n",
    "    for i in message:\n",
    "      if i.isspace():\n",
    "          text += \" \"    \n",
    "      for x in range(5):\n",
    "        for y in range(5):\n",
    "          if list1[x][y] == i.upper():\n",
    "             text += str(x+1) + str(y+1)\n",
    "             break;\n",
    "        else:\n",
    "            continue;\n",
    "        break;\n",
    "  \n",
    "  return text.lower()\n",
    "\n",
    "polybius(\"hi there\")"
   ]
  },
  {
   "cell_type": "code",
   "execution_count": 4,
   "id": "bb1ddde9",
   "metadata": {},
   "outputs": [
    {
     "data": {
      "text/plain": [
       "'111111 CLARUSWAY IS THE BEST IT SCHOOL 555555'"
      ]
     },
     "execution_count": 4,
     "metadata": {},
     "output_type": "execute_result"
    }
   ],
   "source": [
    "import string\n",
    "harfler = string.ascii_lowercase\n",
    "k, tablo = 0, {}\n",
    "for i in range(1, 6):\n",
    "    for j in range(1, 6):\n",
    "        if str(i) + str(j) != '24':\n",
    "            tablo[str(i) + str(j)] = harfler[k]\n",
    "            k += 1\n",
    "        else:\n",
    "            tablo[str(i) + str(j)] = harfler[k:k + 2]\n",
    "            k += 2\n",
    "\n",
    "def polybus_square(text):\n",
    "    n, result = 0, ''\n",
    "    while n < len(text):\n",
    "        if text[n].isdigit():\n",
    "            if text[n: n + 2] == '24':\n",
    "                result += 'I'\n",
    "            else:\n",
    "                result += tablo[text[n: n + 2]].upper()\n",
    "            n += 2\n",
    "        elif text[n].isalpha():\n",
    "            for a, b in tablo.items():\n",
    "                if text[n].lower() == b or text[n].lower() in b:\n",
    "                    result += a\n",
    "                    n += 1\n",
    "                    break\n",
    "        elif text[n] == ' ':\n",
    "            result += ' '\n",
    "            n += 1\n",
    "    return result\n",
    "\n",
    "polybus_square('aaa 133111424543521154 2443 442315 12154344 2444 431323343431 zzz')"
   ]
  },
  {
   "cell_type": "code",
   "execution_count": 7,
   "id": "e7430bd3",
   "metadata": {},
   "outputs": [
    {
     "data": {
      "text/plain": [
       "'24454344 12151311454315 24 14343344 13114215 143415433344 32151133 44231144 24 14343344 45331415424344113314'"
      ]
     },
     "execution_count": 7,
     "metadata": {},
     "output_type": "execute_result"
    }
   ],
   "source": [
    "def polybius(text):\n",
    "    text = text.upper().replace(\"J\",\"I\").replace(\"'\",\"\").replace(\":\",\"\")\n",
    "    import string\n",
    "    upper = string.ascii_uppercase.replace(\"IJ\",\"I\")\n",
    "    dict1 = {}\n",
    "    for j in range(0,25):\n",
    "        row = j // 5 + 1\n",
    "        column = j % 5 + 1\n",
    "        dict1[\"{}{}\".format(row,column)] = upper[j]\n",
    "    if text[0].isalpha():\n",
    "        dict1 = {str(k): str(v) for v, k in dict1.items()}\n",
    "        dict1[\"J\"] = \"24\"\n",
    "        for i in text:\n",
    "            if i != \" \": text = text.replace(i, dict1[i])\n",
    "        return text\n",
    "    else:\n",
    "        decode = [i for i in text.split(\" \") if i]\n",
    "        for i in range(len(decode)) :\n",
    "            n = 2\n",
    "            decode[i] = [decode[i][j:j+n] for j in range(0,len(decode[i]),2)]\n",
    "            for k in range(len(decode[i])):\n",
    "                decode[i][k] = dict1[decode[i][k]]\n",
    "        for i in decode:\n",
    "            decode[decode.index(i)] = \"\".join(i)\n",
    "        return \" \".join(decode).lower()\n",
    "\n",
    "polybius(\"Just because I don't care doesn't mean that I don't understand\")"
   ]
  },
  {
   "cell_type": "code",
   "execution_count": 11,
   "id": "a3bdbe9d",
   "metadata": {},
   "outputs": [],
   "source": [
    "def polybius(message):\n",
    "    if message[0].isdigit():\n",
    "        decrypted = ''\n",
    "        message = message.split()\n",
    "        polybius_square = ['11','12','13','14','15','21','22','23','24','25','31','32','33','34','35','41','42','43','44','45','51','52','53','54','55']\n",
    "        alphabet = ['a','b','c','d','e','f','g','h','i','k','l','m','n','o','p','q','r','s','t','u','v','w','x','y','z']\n",
    "        two_element = []\n",
    "        for i in message:\n",
    "            for index in range(0, len(i), 2):\n",
    "                two_element.append(str(i[index : index +2]))\n",
    "            two_element.append(\" \")\n",
    "        for number in two_element:\n",
    "            if number in polybius_square:\n",
    "                index =  polybius_square.index(number)\n",
    "                decrypted = decrypted + str(alphabet[index])\n",
    "            else:\n",
    "                decrypted += \" \"\n",
    "        return decrypted.strip()\n",
    "    else:\n",
    "        polybius_square = [11, 12, 13, 14, 15, 21, 22, 23, 24, 24, 25, 31, 32, 33, 34, 35, 41, 42, 43, 44, 45, 51, 52, 53, 54, 55]\n",
    "        alphabet = ['a','b','c','d','e','f','g','h','i', 'j', 'k','l','m','n','o','p','q','r','s','t','u','v','w','x','y','z']\n",
    "        encrypted = \"\"\n",
    "        for letter in message.lower():\n",
    "            if letter in alphabet:\n",
    "                index = alphabet.index(letter)\n",
    "                encrypted += str(polybius_square[index])\n",
    "            elif letter==\" \":\n",
    "                encrypted += \" \"\n",
    "        return str(\" \".join([i for i in encrypted.split(\" \") if i.isdigit()]))"
   ]
  },
  {
   "cell_type": "code",
   "execution_count": 12,
   "id": "62c21a3b",
   "metadata": {},
   "outputs": [
    {
     "data": {
      "text/plain": [
       "'111111 CLARUSWAY IS THE BEST IT SCHOOL 555555'"
      ]
     },
     "execution_count": 12,
     "metadata": {},
     "output_type": "execute_result"
    }
   ],
   "source": [
    "polybus_square('aaa 133111424543521154 2443 442315 12154344 2444 431323343431 zzz')"
   ]
  },
  {
   "cell_type": "code",
   "execution_count": null,
   "id": "aae4684d",
   "metadata": {},
   "outputs": [],
   "source": []
  }
 ],
 "metadata": {
  "kernelspec": {
   "display_name": "Python 3",
   "language": "python",
   "name": "pythonjvsc74a57bd0aee8b7b246df8f9039afb4144a1f6fd8d2ca17a180786b69acc140d282b71a49"
  },
  "language_info": {
   "codemirror_mode": {
    "name": "ipython",
    "version": 3
   },
   "file_extension": ".py",
   "mimetype": "text/x-python",
   "name": "python",
   "nbconvert_exporter": "python",
   "pygments_lexer": "ipython3",
   "version": "3.9.7"
  }
 },
 "nbformat": 4,
 "nbformat_minor": 5
}
