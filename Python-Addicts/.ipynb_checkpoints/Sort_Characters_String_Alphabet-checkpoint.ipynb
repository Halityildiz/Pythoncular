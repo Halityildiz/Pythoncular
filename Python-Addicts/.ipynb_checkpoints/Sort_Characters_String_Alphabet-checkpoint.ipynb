{
 "cells": [
  {
   "cell_type": "markdown",
   "id": "023e5035",
   "metadata": {},
   "source": [
    "Program to Sort the Characters of  String  Alphabet Symbols followed by Numeric Values\n",
    "* Input:  MHMMT1453\n",
    "* Output: HMMMT1345"
   ]
  },
  {
   "cell_type": "code",
   "execution_count": null,
   "id": "19766b91",
   "metadata": {},
   "outputs": [],
   "source": [
    "def sirala(text):\n",
    "    harf, rakam = [], []\n",
    "    for i in text:\n",
    "        if i.isalpha():harf.append(i)\n",
    "        else:rakam.append(i)\n",
    "    harf.sort()\n",
    "    rakam.sort()\n",
    "    toplam = harf + rakam\n",
    "    sonuc = ''.join(toplam)\n",
    "    return sonuc\n",
    "\n",
    "sirala('MHMMT1453')"
   ]
  },
  {
   "cell_type": "code",
   "execution_count": null,
   "id": "34569f52",
   "metadata": {},
   "outputs": [],
   "source": [
    "def sort_char(text):\n",
    "\n",
    "  letters = filter(lambda x: x.isalpha(), text)\n",
    "  nums = filter(lambda x: x.isnumeric(), text)\n",
    "\n",
    "  return \"\".join(sorted(letters) + sorted(nums))\n",
    "\n",
    "sort_char(\"MHMMT1453\")"
   ]
  },
  {
   "cell_type": "code",
   "execution_count": 2,
   "id": "5d2f6405",
   "metadata": {},
   "outputs": [
    {
     "data": {
      "text/plain": [
       "'HMMMT1345'"
      ]
     },
     "execution_count": 2,
     "metadata": {},
     "output_type": "execute_result"
    }
   ],
   "source": [
    "def sort_(text):\n",
    "    alpha = []\n",
    "    num = []\n",
    "    for i in text:\n",
    "        if i.isalpha():\n",
    "            alpha.append(i)\n",
    "        else:\n",
    "            num.append(i)\n",
    "    result =''.join(sorted(alpha)+sorted(num))\n",
    "    return result\n",
    "sort_(\"MHMMT1453\")"
   ]
  },
  {
   "cell_type": "code",
   "execution_count": 1,
   "id": "b469311b",
   "metadata": {},
   "outputs": [],
   "source": [
    "def sort_text(text):\n",
    "    alpha = []\n",
    "    num = []\n",
    "    [alpha.append(i) if i.isalpha() else num.append(i) for i in text]\n",
    "    return \"\".join(sorted(alpha)+sorted(num))\n"
   ]
  },
  {
   "cell_type": "code",
   "execution_count": null,
   "id": "229d527d",
   "metadata": {},
   "outputs": [],
   "source": []
  }
 ],
 "metadata": {
  "kernelspec": {
   "display_name": "Python 3",
   "language": "python",
   "name": "pythonjvsc74a57bd0aee8b7b246df8f9039afb4144a1f6fd8d2ca17a180786b69acc140d282b71a49"
  },
  "language_info": {
   "codemirror_mode": {
    "name": "ipython",
    "version": 3
   },
   "file_extension": ".py",
   "mimetype": "text/x-python",
   "name": "python",
   "nbconvert_exporter": "python",
   "pygments_lexer": "ipython3",
   "version": "3.9.7"
  }
 },
 "nbformat": 4,
 "nbformat_minor": 5
}
