{
 "cells": [
  {
   "cell_type": "markdown",
   "id": "3fdb8095",
   "metadata": {},
   "source": [
    "Create a function that takes in two positive integers start and n and returns a list of the first n terms of the look-and-say sequence starting at the given start.\n",
    "\n",
    "Each term of the look-and-say sequence (except for the first term) is created from the previous term using the following process.\n",
    "\n",
    "Start with a term in the sequence (for example, 111312211):\n",
    "\n",
    "111312211\n",
    "Split it into subsequences of consecutive repeating digits:\n",
    "\n",
    "111 3 1 22 11\n",
    "Count the number of digits in each subsequence:\n",
    "\n",
    "three 1, one 3, one 1, two 2, two 1\n",
    "Turn everything into digits:\n",
    "\n",
    "3 1, 1 3, 1 1, 2 2, 2 1\n",
    "Now combine everything into one number:\n",
    "\n",
    "3113112221\n",
    "So 3113112221 is the next term in the sequence after 111312211.\n",
    "\n",
    "Examples\n",
    "look_and_say(1, 7) ➞ [1, 11, 21, 1211, 111221, 312211, 13112221]\n",
    "\n",
    "look_and_say(123, 4) ➞ [123, 111213, 31121113, 1321123113]\n",
    "\n",
    "look_and_say(70, 5) ➞ [70, 1710, 11171110, 31173110, 132117132110]\n",
    "Notes\n",
    "Your output should be a list of integers."
   ]
  },
  {
   "cell_type": "code",
   "execution_count": null,
   "id": "3e3c4e02",
   "metadata": {},
   "outputs": [],
   "source": [
    "def tekrarlı(sayı,n):\n",
    "    k = 1\n",
    "    while k < n:\n",
    "        sonuç = \"\"\n",
    "        ilk_eleman = str(sayı)[0]\n",
    "        sayı = str(sayı)[1:] + \"#\"\n",
    "        count = 1\n",
    "        for i in sayı:\n",
    "            if i != ilk_eleman:\n",
    "                sonuç += str(count) + ilk_eleman\n",
    "                ilk_eleman = i\n",
    "                count = 1\n",
    "            else:\n",
    "                count += 1\n",
    "        sayı = int(sonuç)\n",
    "        k += 1\n",
    "    return sonuç\n",
    "tekrarlı(70,5)"
   ]
  },
  {
   "cell_type": "code",
   "execution_count": null,
   "id": "a040530f",
   "metadata": {},
   "outputs": [],
   "source": [
    "def donustur(a):\n",
    "    liste, res = [], []\n",
    "    for i in str(a):\n",
    "        if liste == []:liste.append(i)\n",
    "        else:\n",
    "            if i not in liste:\n",
    "                res.append([len(liste), *liste])\n",
    "                liste = []\n",
    "                liste.append(i)\n",
    "            else:liste.append(i)\n",
    "    res.append([len(liste), *liste])\n",
    "    res2 = ''.join([str(i[0]) + i[-1] for i in res])\n",
    "    return int(res2)\n",
    "def look_and_say(x, y):\n",
    "    result = [x]\n",
    "    while len(result) < y:\n",
    "        result.append(donustur(result[-1]))\n",
    "    return result\n",
    "look_and_say(70, 5)"
   ]
  },
  {
   "cell_type": "code",
   "execution_count": 1,
   "id": "b403f132",
   "metadata": {},
   "outputs": [
    {
     "data": {
      "text/plain": [
       "[1, 11, 21, 1211, 111221, 312211, 13112221]"
      ]
     },
     "execution_count": 1,
     "metadata": {},
     "output_type": "execute_result"
    }
   ],
   "source": [
    "def look_and_say(start, n):\n",
    "\n",
    "    new_seq, num = [start], 1\n",
    "   \n",
    "    while num < n:\n",
    "      start = str(new_seq[-1])\n",
    "      seq_list = [[start[0]]]\n",
    "      num += 1\n",
    "      for i in range(1, len(start)):\n",
    "        if start[i] == start[i-1]: seq_list[-1].append(start[i])\n",
    "        else: seq_list += [start[i]],\n",
    "\n",
    "      aa = \"\".join(map(lambda x: str(x.count(x[0])) + x[0], seq_list))\n",
    "      new_seq += [int(aa)]\n",
    "\n",
    "    return new_seq\n",
    "\n",
    "look_and_say(1, 7)"
   ]
  }
 ],
 "metadata": {
  "kernelspec": {
   "display_name": "Python 3",
   "language": "python",
   "name": "pythonjvsc74a57bd0aee8b7b246df8f9039afb4144a1f6fd8d2ca17a180786b69acc140d282b71a49"
  },
  "language_info": {
   "codemirror_mode": {
    "name": "ipython",
    "version": 3
   },
   "file_extension": ".py",
   "mimetype": "text/x-python",
   "name": "python",
   "nbconvert_exporter": "python",
   "pygments_lexer": "ipython3",
   "version": "3.9.7"
  }
 },
 "nbformat": 4,
 "nbformat_minor": 5
}
