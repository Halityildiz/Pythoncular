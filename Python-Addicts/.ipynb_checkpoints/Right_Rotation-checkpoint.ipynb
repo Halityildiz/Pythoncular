{
 "cells": [
  {
   "cell_type": "code",
   "execution_count": null,
   "id": "cfa5ed24",
   "metadata": {},
   "outputs": [],
   "source": [
    "Create a function which takes 2 parameters:\n",
    "\n",
    "A matrix mat with m rows and n columns, containing data of any type.\n",
    "An optional integer parameter turns giving the number of clockwise 90 degree rotations by which to transform the matrix (defaults to 1).\n",
    "The function should return a new matrix with the elements rotated clockwise or counter-clockwise by the number of turns given.\n",
    "\n",
    "For positive integers: 1 turn = 90° clockwise, 2 turns = 180° clockwise, 3 turns = 270° clockwise, 4 turns = 360° clockwise, etc.\n",
    "\n",
    "For negative integers: -1 turn = 90° counter-clockwise, -2 turns = 180° counter-clockwise, -3 turns = 270° counter-clockwise, -4 turns = 360° counter-clockwise, etc.\n",
    "\n",
    "Examples\n",
    "rotate_matrix([\n",
    "  [1,  2,  3,  4],\n",
    "  [5,  6,  7,  8],\n",
    "  [9, 10, 11, 12]\n",
    "]) ➞ [\n",
    "  [ 9, 5, 1],\n",
    "  [10, 6, 2],\n",
    "  [11, 7, 3],\n",
    "  [12, 8, 4]\n",
    "]\n",
    "# A clockwise rotation.\n",
    "# Left to right columns become rows in bottom to top order.\n",
    "\n",
    "\n",
    "rotate_matrix([[\"+\", \"-\"], [\"*\", \"/\"]], -1) ➞ [[\"-\", \"/\"], [\"+\", \"*\"]]\n",
    "# A counter-clockwise rotation.\n",
    "# Right to left columns become rows in top to bottom order.\n",
    "\n",
    "\n",
    "rotate_matrix([[1, 2, 3], [4, 5, 6]], 4) ➞ [[1, 2, 3], [4, 5, 6]]\n",
    "# A 360° turn returns all elements to their original positions.\n",
    "Notes\n",
    "All given matrices (2-dimensional lists) will have at least 1 row and at least 1 column.\n",
    "Do not mutate the original matrix, the return value should be a new 2-dimensional list with values copied from the original list.\n",
    "Do not import any libraries - the challenge is to come up with your own solution.\n",
    "Make sure your solution is efficient enough to cope with a large number of turns\n",
    "You must provide a default value for the turns parameter."
   ]
  },
  {
   "cell_type": "code",
   "execution_count": null,
   "id": "dced1f7e",
   "metadata": {},
   "outputs": [],
   "source": [
    "def mat_rot(matris,rotate):\n",
    "    if rotate<0:\n",
    "        rotate=abs(rotate)\n",
    "        for i in range(rotate):\n",
    "            rotated = list(reversed(list(zip(*matris))))\n",
    "            matris=rotated\n",
    "        return matris\n",
    "    elif rotate>0:\n",
    "        for j in range(rotate):\n",
    "            rtor = list(zip(*matris[::-1]))\n",
    "            matris=rtor\n",
    "        return matris\n",
    "    else:\n",
    "        return matris\n",
    "\n",
    "print(mat_rot([\n",
    "  [1,  2,  3,  4],\n",
    "  [5,  6,  7,  8],\n",
    "  [9, 10, 11, 12]\n",
    "],-3))"
   ]
  },
  {
   "cell_type": "code",
   "execution_count": null,
   "id": "f0144bd0",
   "metadata": {},
   "outputs": [],
   "source": [
    "def right_rotation(liste, n = 1):    \n",
    "    donusum = {-1 : 3, -2 : 2, -3 : 1, -4 : 4}\n",
    "    if n < 0:n = donusum[n]\n",
    "    a = 0\n",
    "    while a < n:\n",
    "        liste = list(map(lambda *x : [*x[::-1]], *liste))\n",
    "        a += 1\n",
    "    return liste\n",
    "\n",
    "right_rotation([\n",
    "  [1,  2,  3,  4],\n",
    "  [5,  6,  7,  8],\n",
    "  [9, 10, 11, 12]\n",
    "], 2)"
   ]
  },
  {
   "cell_type": "code",
   "execution_count": null,
   "id": "c3afae59",
   "metadata": {},
   "outputs": [],
   "source": [
    "def rotate_matrix(mat, n = 1):\n",
    "\n",
    "  n = n % 4\n",
    "\n",
    "  new_mat = [[] for i in mat[0]]\n",
    "  for y in range(1, n+1):\n",
    "    for i in range(len(mat[0])):\n",
    "      for x in range(len(mat)):\n",
    "        new_mat[i] += [mat[x][i]]\n",
    "        if x == len(mat)-1:\n",
    "          new_mat[i] = new_mat[i][::-1]\n",
    "    \n",
    "    mat = new_mat\n",
    "    new_mat = [[] for i in mat[0]]      \n",
    "\n",
    "  return mat\n",
    "\n",
    "print(rotate_matrix([[1, 2, 3],[4, 5, 6]], -11))"
   ]
  },
  {
   "cell_type": "code",
   "execution_count": null,
   "id": "a22a01bb",
   "metadata": {},
   "outputs": [],
   "source": []
  },
  {
   "cell_type": "code",
   "execution_count": null,
   "id": "389eee2b",
   "metadata": {},
   "outputs": [],
   "source": []
  }
 ],
 "metadata": {
  "kernelspec": {
   "display_name": "Python 3",
   "language": "python",
   "name": "pythonjvsc74a57bd0aee8b7b246df8f9039afb4144a1f6fd8d2ca17a180786b69acc140d282b71a49"
  },
  "language_info": {
   "codemirror_mode": {
    "name": "ipython",
    "version": 3
   },
   "file_extension": ".py",
   "mimetype": "text/x-python",
   "name": "python",
   "nbconvert_exporter": "python",
   "pygments_lexer": "ipython3",
   "version": "3.9.7"
  }
 },
 "nbformat": 4,
 "nbformat_minor": 5
}
