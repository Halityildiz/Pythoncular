{
 "cells": [
  {
   "cell_type": "markdown",
   "id": "edd69e40",
   "metadata": {},
   "source": [
    "Write a function that when given a URL as a string, \n",
    "parses out just the domain name and returns it as a string. For example:\n",
    "domain_name(\"http://github.com/carbonfive/raygun\") == \"github\" \n",
    "domain_name(\"http://www.zombie-bites.com\") == \"zombie-bites\"\n",
    "domain_name(\"https://www.cnet.com\") == \"cnet\""
   ]
  },
  {
   "cell_type": "code",
   "execution_count": null,
   "id": "81d9b3d7",
   "metadata": {},
   "outputs": [],
   "source": [
    "def domain(domain):    \n",
    "    import re\n",
    "    result = ''.join(re.findall('^http.+/(\\S+)\\.', domain))\n",
    "    if result.startswith('www'):\n",
    "        result = ''.join(re.findall('^www.(\\S+)', result))\n",
    "    return result"
   ]
  },
  {
   "cell_type": "code",
   "execution_count": 1,
   "id": "04fef4ed",
   "metadata": {},
   "outputs": [
    {
     "name": "stdout",
     "output_type": "stream",
     "text": [
      "cnet\n",
      "zombie-bites\n",
      "github\n"
     ]
    }
   ],
   "source": [
    "def domain_name(domain):\n",
    "    points,com=[i for i in range(len(domain)) if domain[i]==\".\" or domain[i]==\"/\"],\".com\"\n",
    "    index=domain.index(com)\n",
    "    crack_dom=domain[points[1]+1:index]\n",
    "    if crack_dom[3]==\".\":return print(crack_dom[4:])\n",
    "    else:return print(crack_dom)\n",
    "domain_name(\"https://www.cnet.com\")\n",
    "domain_name(\"http://www.zombie-bites.com\")\n",
    "domain_name(\"http://github.com/carbonfive/raygun\")"
   ]
  },
  {
   "cell_type": "code",
   "execution_count": 2,
   "id": "c13b0e41",
   "metadata": {},
   "outputs": [
    {
     "data": {
      "text/plain": [
       "'github'"
      ]
     },
     "execution_count": 2,
     "metadata": {},
     "output_type": "execute_result"
    }
   ],
   "source": [
    "def domain_name(url):\n",
    "    return url.split(\"//\")[-1].split(\"www.\")[-1].split(\".\")[0]\n",
    "domain_name(\"https://www.cnet.com\")\n",
    "domain_name(\"http://www.zombie-bites.com\")\n",
    "domain_name(\"http://github.com/carbonfive/raygun\")"
   ]
  }
 ],
 "metadata": {
  "kernelspec": {
   "display_name": "Python 3",
   "language": "python",
   "name": "pythonjvsc74a57bd0aee8b7b246df8f9039afb4144a1f6fd8d2ca17a180786b69acc140d282b71a49"
  },
  "language_info": {
   "codemirror_mode": {
    "name": "ipython",
    "version": 3
   },
   "file_extension": ".py",
   "mimetype": "text/x-python",
   "name": "python",
   "nbconvert_exporter": "python",
   "pygments_lexer": "ipython3",
   "version": "3.9.7"
  }
 },
 "nbformat": 4,
 "nbformat_minor": 5
}
