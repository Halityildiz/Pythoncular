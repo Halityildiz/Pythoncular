{
 "cells": [
  {
   "cell_type": "markdown",
   "source": [
    "Bir fonksiyon yazınız; Fonksiyonunuz, kullanıcıdan 2 sayı istesin ve \n",
    "kullanıcıdan girilen sayılar arasındaki sayıların toplamını çıktı olarak versin. \n",
    "Kullanıcıdan alınan sayılar toplama dahil edilmesin. Herkese kolay gelsin. \n",
    "\n",
    "For Example:\n",
    "Input (5, 12)\n",
    "Output (41)"
   ],
   "metadata": {}
  },
  {
   "cell_type": "code",
   "execution_count": 14,
   "source": [
    "def ara_toplam(a,b):\n",
    "    toplam=0\n",
    "    for i in range(a+1, b):\n",
    "        toplam+=i\n",
    "    return toplam\n",
    "\n",
    "ara_toplam(5,12)\n"
   ],
   "outputs": [
    {
     "output_type": "execute_result",
     "data": {
      "text/plain": [
       "51"
      ]
     },
     "metadata": {},
     "execution_count": 14
    }
   ],
   "metadata": {}
  },
  {
   "cell_type": "markdown",
   "source": [
    "Create a function that takes two numbers as arguments and return their sum.\n",
    "Examples\n",
    "addition(3, 2) ➞ 5\n",
    "addition(-3, -6) ➞ -9\n",
    "addition(7, 3) ➞ 10"
   ],
   "metadata": {}
  },
  {
   "cell_type": "code",
   "execution_count": 2,
   "source": [
    "def addition(x, y):\n",
    "    return x+y\n",
    "addition(-3, -6)"
   ],
   "outputs": [
    {
     "output_type": "execute_result",
     "data": {
      "text/plain": [
       "-9"
      ]
     },
     "metadata": {},
     "execution_count": 2
    }
   ],
   "metadata": {}
  },
  {
   "cell_type": "code",
   "execution_count": null,
   "source": [
    "ef addition(x, y):\n",
    "    return x+y\n",
    "addition(-4, -8)"
   ],
   "outputs": [],
   "metadata": {}
  }
 ],
 "metadata": {
  "kernelspec": {
   "display_name": "Python 3",
   "language": "python",
   "name": "python3"
  },
  "language_info": {
   "codemirror_mode": {
    "name": "ipython",
    "version": 3
   },
   "file_extension": ".py",
   "mimetype": "text/x-python",
   "name": "python",
   "nbconvert_exporter": "python",
   "pygments_lexer": "ipython3",
   "version": "3.8.8"
  }
 },
 "nbformat": 4,
 "nbformat_minor": 5
}